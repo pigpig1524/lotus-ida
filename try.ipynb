{
 "cells": [
  {
   "cell_type": "code",
   "execution_count": 8,
   "metadata": {},
   "outputs": [
    {
     "name": "stdout",
     "output_type": "stream",
     "text": [
      "{'type': 'number', 'value': 977}\n"
     ]
    },
    {
     "data": {
      "text/plain": [
       "977"
      ]
     },
     "execution_count": 8,
     "metadata": {},
     "output_type": "execute_result"
    }
   ],
   "source": [
    "import os\n",
    "import pandas as pd\n",
    "from pandasai import Agent\n",
    "from pandasai.llm import OpenAI\n",
    "import streamlit as st\n",
    "\n",
    "\n",
    "# By default, unless you choose a different LLM, it will use BambooLLM.\n",
    "# You can get your free API key signing up at https://pandabi.ai (you can also configure it in your .env file)\n",
    "\n",
    "\n",
    "OPENAI_API_KEY = st.secrets['OPENAI_API_KEY']\n",
    "PANDASAI_API_KEY = st.secrets['PANDASAI_API_KEY']\n",
    "os.environ[\"PANDASAI_API_KEY\"] = PANDASAI_API_KEY\n",
    "\n",
    "llm = OpenAI(api_token=OPENAI_API_KEY)\n",
    "data = pd.read_csv('data/modified_train.csv')\n",
    "\n",
    "agent = Agent(data, config={'llm': llm})\n",
    "agent.chat('What is the max value of rental count')"
   ]
  }
 ],
 "metadata": {
  "kernelspec": {
   "display_name": "Python 3",
   "language": "python",
   "name": "python3"
  },
  "language_info": {
   "codemirror_mode": {
    "name": "ipython",
    "version": 3
   },
   "file_extension": ".py",
   "mimetype": "text/x-python",
   "name": "python",
   "nbconvert_exporter": "python",
   "pygments_lexer": "ipython3",
   "version": "3.10.12"
  }
 },
 "nbformat": 4,
 "nbformat_minor": 2
}
