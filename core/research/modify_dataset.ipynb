{
 "cells": [
  {
   "cell_type": "code",
   "execution_count": 1,
   "id": "857e2295",
   "metadata": {},
   "outputs": [],
   "source": [
    "import pandas as pd\n",
    "\n",
    "def read_data(file_path_train, file_path_test):\n",
    "\ttrain_df = pd.read_csv(file_path_train)\n",
    "\ttest_df = pd.read_csv(file_path_test)\n",
    "\treturn train_df, test_df\n",
    "\n",
    "train_df, test_df = read_data(\"../data/train.csv\", \"../data/test.csv\")"
   ]
  },
  {
   "cell_type": "code",
   "execution_count": 2,
   "id": "262d6a4f",
   "metadata": {},
   "outputs": [
    {
     "name": "stdout",
     "output_type": "stream",
     "text": [
      "Before modified\n",
      "Shape of train_df: (10886, 12)\n",
      "Number of rows w/ na values in train_df: 0\n",
      "Number of rows w/ duplicated values in train_df: 0\n"
     ]
    }
   ],
   "source": [
    "duplicate_rows = train_df.duplicated()\n",
    "rows_na = train_df[train_df.isna().any(axis=1)]\n",
    "rows_duplicated = duplicate_rows[duplicate_rows == True]\n",
    "print(\"Before modified\")\n",
    "print(f\"Shape of train_df: {train_df.shape}\")\n",
    "print(f\"Number of rows w/ na values in train_df: {len(rows_na)}\")\n",
    "print(f\"Number of rows w/ duplicated values in train_df: {len(rows_duplicated)}\")"
   ]
  },
  {
   "cell_type": "code",
   "execution_count": 3,
   "id": "e37e5d39",
   "metadata": {},
   "outputs": [],
   "source": [
    "import pandas as pd\n",
    "import numpy as np\n",
    "\n",
    "DUP_PERCENT = 0.05\n",
    "DEL_PERCENT = 0.1\n",
    "\n",
    "# Duplicate Rows\n",
    "num_to_dup = int(DUP_PERCENT * len(train_df))\n",
    "duplicated_rows = train_df.sample(n=num_to_dup, replace=True)\n",
    "train_df = pd.concat([train_df, duplicated_rows], ignore_index=True)\n",
    "\n",
    "# Delete Values\n",
    "cols_to_modify = ['windspeed', 'temp', 'atemp']\n",
    "\n",
    "for col in cols_to_modify:\n",
    "    num_to_del = int(DEL_PERCENT * len(train_df))\n",
    "    indices_to_del = np.random.choice(train_df.index, size=num_to_del, replace=False)\n",
    "    train_df.loc[indices_to_del, col] = np.nan"
   ]
  },
  {
   "cell_type": "code",
   "execution_count": 4,
   "id": "b8d5d704",
   "metadata": {},
   "outputs": [
    {
     "name": "stdout",
     "output_type": "stream",
     "text": [
      "After modified\n",
      "Shape of train_df: (11430, 12)\n",
      "Number of rows w/ na values in train_df: 3117\n",
      "Number of rows w/ duplicated values in train_df: 288\n"
     ]
    }
   ],
   "source": [
    "duplicate_rows = train_df.duplicated()\n",
    "rows_na = train_df[train_df.isna().any(axis=1)]\n",
    "rows_duplicated = duplicate_rows[duplicate_rows == True]\n",
    "print(\"After modified\")\n",
    "print(f\"Shape of train_df: {train_df.shape}\")\n",
    "print(f\"Number of rows w/ na values in train_df: {len(rows_na)}\")\n",
    "print(f\"Number of rows w/ duplicated values in train_df: {len(rows_duplicated)}\")"
   ]
  },
  {
   "cell_type": "code",
   "execution_count": 5,
   "id": "86062096",
   "metadata": {},
   "outputs": [],
   "source": [
    "train_df.to_csv('../data/modified_train.csv', index=False)"
   ]
  }
 ],
 "metadata": {
  "kernelspec": {
   "display_name": "python-general",
   "language": "python",
   "name": "python3"
  },
  "language_info": {
   "codemirror_mode": {
    "name": "ipython",
    "version": 3
   },
   "file_extension": ".py",
   "mimetype": "text/x-python",
   "name": "python",
   "nbconvert_exporter": "python",
   "pygments_lexer": "ipython3",
   "version": "3.12.9"
  }
 },
 "nbformat": 4,
 "nbformat_minor": 5
}
